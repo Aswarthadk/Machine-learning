{
 "cells": [
  {
   "cell_type": "code",
   "execution_count": 1,
   "metadata": {},
   "outputs": [],
   "source": [
    "import numpy as np\n",
    "import pandas as pd\n",
    "import matplotlib.pyplot as plt\n",
    "import seaborn as sns\n",
    "import warnings\n",
    "warnings.filterwarnings('ignore')"
   ]
  },
  {
   "cell_type": "code",
   "execution_count": 2,
   "metadata": {},
   "outputs": [],
   "source": [
    "df=pd.read_excel('/home/dk/Data science/default of credit card clients.xls',header=1)"
   ]
  },
  {
   "cell_type": "code",
   "execution_count": 3,
   "metadata": {},
   "outputs": [
    {
     "data": {
      "text/html": [
       "<div>\n",
       "<style scoped>\n",
       "    .dataframe tbody tr th:only-of-type {\n",
       "        vertical-align: middle;\n",
       "    }\n",
       "\n",
       "    .dataframe tbody tr th {\n",
       "        vertical-align: top;\n",
       "    }\n",
       "\n",
       "    .dataframe thead th {\n",
       "        text-align: right;\n",
       "    }\n",
       "</style>\n",
       "<table border=\"1\" class=\"dataframe\">\n",
       "  <thead>\n",
       "    <tr style=\"text-align: right;\">\n",
       "      <th></th>\n",
       "      <th>ID</th>\n",
       "      <th>LIMIT_BAL</th>\n",
       "      <th>SEX</th>\n",
       "      <th>EDUCATION</th>\n",
       "      <th>MARRIAGE</th>\n",
       "      <th>AGE</th>\n",
       "      <th>PAY_0</th>\n",
       "      <th>PAY_2</th>\n",
       "      <th>PAY_3</th>\n",
       "      <th>PAY_4</th>\n",
       "      <th>...</th>\n",
       "      <th>BILL_AMT4</th>\n",
       "      <th>BILL_AMT5</th>\n",
       "      <th>BILL_AMT6</th>\n",
       "      <th>PAY_AMT1</th>\n",
       "      <th>PAY_AMT2</th>\n",
       "      <th>PAY_AMT3</th>\n",
       "      <th>PAY_AMT4</th>\n",
       "      <th>PAY_AMT5</th>\n",
       "      <th>PAY_AMT6</th>\n",
       "      <th>default payment next month</th>\n",
       "    </tr>\n",
       "  </thead>\n",
       "  <tbody>\n",
       "    <tr>\n",
       "      <th>0</th>\n",
       "      <td>1</td>\n",
       "      <td>20000</td>\n",
       "      <td>2</td>\n",
       "      <td>2</td>\n",
       "      <td>1</td>\n",
       "      <td>24</td>\n",
       "      <td>2</td>\n",
       "      <td>2</td>\n",
       "      <td>-1</td>\n",
       "      <td>-1</td>\n",
       "      <td>...</td>\n",
       "      <td>0</td>\n",
       "      <td>0</td>\n",
       "      <td>0</td>\n",
       "      <td>0</td>\n",
       "      <td>689</td>\n",
       "      <td>0</td>\n",
       "      <td>0</td>\n",
       "      <td>0</td>\n",
       "      <td>0</td>\n",
       "      <td>1</td>\n",
       "    </tr>\n",
       "    <tr>\n",
       "      <th>1</th>\n",
       "      <td>2</td>\n",
       "      <td>120000</td>\n",
       "      <td>2</td>\n",
       "      <td>2</td>\n",
       "      <td>2</td>\n",
       "      <td>26</td>\n",
       "      <td>-1</td>\n",
       "      <td>2</td>\n",
       "      <td>0</td>\n",
       "      <td>0</td>\n",
       "      <td>...</td>\n",
       "      <td>3272</td>\n",
       "      <td>3455</td>\n",
       "      <td>3261</td>\n",
       "      <td>0</td>\n",
       "      <td>1000</td>\n",
       "      <td>1000</td>\n",
       "      <td>1000</td>\n",
       "      <td>0</td>\n",
       "      <td>2000</td>\n",
       "      <td>1</td>\n",
       "    </tr>\n",
       "    <tr>\n",
       "      <th>2</th>\n",
       "      <td>3</td>\n",
       "      <td>90000</td>\n",
       "      <td>2</td>\n",
       "      <td>2</td>\n",
       "      <td>2</td>\n",
       "      <td>34</td>\n",
       "      <td>0</td>\n",
       "      <td>0</td>\n",
       "      <td>0</td>\n",
       "      <td>0</td>\n",
       "      <td>...</td>\n",
       "      <td>14331</td>\n",
       "      <td>14948</td>\n",
       "      <td>15549</td>\n",
       "      <td>1518</td>\n",
       "      <td>1500</td>\n",
       "      <td>1000</td>\n",
       "      <td>1000</td>\n",
       "      <td>1000</td>\n",
       "      <td>5000</td>\n",
       "      <td>0</td>\n",
       "    </tr>\n",
       "    <tr>\n",
       "      <th>3</th>\n",
       "      <td>4</td>\n",
       "      <td>50000</td>\n",
       "      <td>2</td>\n",
       "      <td>2</td>\n",
       "      <td>1</td>\n",
       "      <td>37</td>\n",
       "      <td>0</td>\n",
       "      <td>0</td>\n",
       "      <td>0</td>\n",
       "      <td>0</td>\n",
       "      <td>...</td>\n",
       "      <td>28314</td>\n",
       "      <td>28959</td>\n",
       "      <td>29547</td>\n",
       "      <td>2000</td>\n",
       "      <td>2019</td>\n",
       "      <td>1200</td>\n",
       "      <td>1100</td>\n",
       "      <td>1069</td>\n",
       "      <td>1000</td>\n",
       "      <td>0</td>\n",
       "    </tr>\n",
       "    <tr>\n",
       "      <th>4</th>\n",
       "      <td>5</td>\n",
       "      <td>50000</td>\n",
       "      <td>1</td>\n",
       "      <td>2</td>\n",
       "      <td>1</td>\n",
       "      <td>57</td>\n",
       "      <td>-1</td>\n",
       "      <td>0</td>\n",
       "      <td>-1</td>\n",
       "      <td>0</td>\n",
       "      <td>...</td>\n",
       "      <td>20940</td>\n",
       "      <td>19146</td>\n",
       "      <td>19131</td>\n",
       "      <td>2000</td>\n",
       "      <td>36681</td>\n",
       "      <td>10000</td>\n",
       "      <td>9000</td>\n",
       "      <td>689</td>\n",
       "      <td>679</td>\n",
       "      <td>0</td>\n",
       "    </tr>\n",
       "  </tbody>\n",
       "</table>\n",
       "<p>5 rows × 25 columns</p>\n",
       "</div>"
      ],
      "text/plain": [
       "   ID  LIMIT_BAL  SEX  EDUCATION  MARRIAGE  AGE  PAY_0  PAY_2  PAY_3  PAY_4  \\\n",
       "0   1      20000    2          2         1   24      2      2     -1     -1   \n",
       "1   2     120000    2          2         2   26     -1      2      0      0   \n",
       "2   3      90000    2          2         2   34      0      0      0      0   \n",
       "3   4      50000    2          2         1   37      0      0      0      0   \n",
       "4   5      50000    1          2         1   57     -1      0     -1      0   \n",
       "\n",
       "              ...              BILL_AMT4  BILL_AMT5  BILL_AMT6  PAY_AMT1  \\\n",
       "0             ...                      0          0          0         0   \n",
       "1             ...                   3272       3455       3261         0   \n",
       "2             ...                  14331      14948      15549      1518   \n",
       "3             ...                  28314      28959      29547      2000   \n",
       "4             ...                  20940      19146      19131      2000   \n",
       "\n",
       "   PAY_AMT2  PAY_AMT3  PAY_AMT4  PAY_AMT5  PAY_AMT6  \\\n",
       "0       689         0         0         0         0   \n",
       "1      1000      1000      1000         0      2000   \n",
       "2      1500      1000      1000      1000      5000   \n",
       "3      2019      1200      1100      1069      1000   \n",
       "4     36681     10000      9000       689       679   \n",
       "\n",
       "   default payment next month  \n",
       "0                           1  \n",
       "1                           1  \n",
       "2                           0  \n",
       "3                           0  \n",
       "4                           0  \n",
       "\n",
       "[5 rows x 25 columns]"
      ]
     },
     "execution_count": 3,
     "metadata": {},
     "output_type": "execute_result"
    }
   ],
   "source": [
    "df.head()"
   ]
  },
  {
   "cell_type": "code",
   "execution_count": 4,
   "metadata": {},
   "outputs": [
    {
     "data": {
      "text/plain": [
       "2    14030\n",
       "1    10585\n",
       "3     4917\n",
       "4      468\n",
       "Name: EDUCATION, dtype: int64"
      ]
     },
     "execution_count": 4,
     "metadata": {},
     "output_type": "execute_result"
    }
   ],
   "source": [
    "fil = (df.EDUCATION == 5) | (df.EDUCATION == 6) | (df.EDUCATION == 0)\n",
    "df.loc[fil, 'EDUCATION'] = 4\n",
    "df.EDUCATION.value_counts()"
   ]
  },
  {
   "cell_type": "markdown",
   "metadata": {},
   "source": [
    "Level 5,6 and 0 are not expected in data , these are missing values. so better to consider in others category."
   ]
  },
  {
   "cell_type": "code",
   "execution_count": 5,
   "metadata": {},
   "outputs": [
    {
     "data": {
      "text/plain": [
       "2    15964\n",
       "1    13659\n",
       "3      377\n",
       "Name: MARRIAGE, dtype: int64"
      ]
     },
     "execution_count": 5,
     "metadata": {},
     "output_type": "execute_result"
    }
   ],
   "source": [
    "fil = (df.MARRIAGE == 0) \n",
    "df.loc[fil, 'MARRIAGE'] = 3\n",
    "df.MARRIAGE.value_counts()"
   ]
  },
  {
   "cell_type": "markdown",
   "metadata": {},
   "source": [
    "0 is not expected , it might be null value.so consider in others category."
   ]
  },
  {
   "cell_type": "code",
   "execution_count": 6,
   "metadata": {},
   "outputs": [],
   "source": [
    "df.loc[:,'PAY_0']=df.loc[:,'PAY_0']+1\n",
    "df['Duly_payer']=np.where((df['PAY_0']==-1)&(df['PAY_2']==-1)&(df['PAY_3']==-1)&(df['PAY_4']==-1)&(df['PAY_5']==-1)&(df['PAY_6']==-1),1,0)\n",
    "df['Fallible_payer']=np.where((df['PAY_0']>0)&(df['PAY_2']>0)&(df['PAY_3']>0)&(df['PAY_4']>0)&(df['PAY_5']>0)&(df['PAY_6']>0),1,0)\n",
    "df['Monitor_payer']=np.where((df['PAY_0']+df['PAY_2']+df['PAY_3']+df['PAY_4']+df['PAY_5']+df['PAY_6'])>=6,1,0)\n",
    "df['No_transact']=np.where((df['PAY_0']==0)&(df['PAY_2']==0)&(df['PAY_3']==0)&(df['PAY_4']==0)&(df['PAY_5']==0)&(df['PAY_6']==0),1,0)"
   ]
  },
  {
   "cell_type": "markdown",
   "metadata": {},
   "source": [
    "Description for PAY_0 to PAY_6(-1=pay duly, 1=payment delay for one month, 2=payment delay for two months, ... 8=payment delay for eight months, 9=payment delay for nine months and above)\n",
    "\n",
    "Duly_payer = One who pays every month (PAY_0 (September, 2005 )to PAY_6(April, 2005) without delay.\n",
    "Falliable_payer=One who delay every month\n",
    "Monitor_payer= whoose sum across six payments is more than 6 is Serious threat to the bank \n",
    "NO_tranct= customers not completed any transaction"
   ]
  },
  {
   "cell_type": "code",
   "execution_count": 7,
   "metadata": {},
   "outputs": [],
   "source": [
    "df['Totalbillamount']=df['BILL_AMT1']+df['BILL_AMT2']+df['BILL_AMT3']+df['BILL_AMT4']+df['BILL_AMT5']+df['BILL_AMT6']\n",
    "df['Totalpaymentamount']=df['PAY_AMT1']+df['PAY_AMT2']+df['PAY_AMT3']+df['PAY_AMT4']+df['PAY_AMT5']+df['PAY_AMT6']"
   ]
  },
  {
   "cell_type": "markdown",
   "metadata": {},
   "source": [
    "Above are aggregated varibles for bill and payment. Instead individually processing BILL_AMT1 to BILL_AMT6, it is better to capture the essence in as ingle varible."
   ]
  },
  {
   "cell_type": "code",
   "execution_count": 8,
   "metadata": {},
   "outputs": [],
   "source": [
    "x=df.drop(['ID','default payment next month','PAY_0',\n",
    "       'PAY_2','SEX','PAY_3', 'PAY_4', 'PAY_5', 'PAY_6','BILL_AMT1', 'BILL_AMT2',\n",
    "       'BILL_AMT3', 'BILL_AMT4', 'BILL_AMT5', 'BILL_AMT6', 'PAY_AMT1',\n",
    "       'PAY_AMT2', 'PAY_AMT3', 'PAY_AMT4', 'PAY_AMT5','PAY_AMT6','EDUCATION','MARRIAGE'],axis=1)\n",
    "y=df['default payment next month']"
   ]
  },
  {
   "cell_type": "code",
   "execution_count": 9,
   "metadata": {},
   "outputs": [],
   "source": [
    "df_fop=x"
   ]
  },
  {
   "cell_type": "code",
   "execution_count": 10,
   "metadata": {},
   "outputs": [
    {
     "data": {
      "text/html": [
       "<div>\n",
       "<style scoped>\n",
       "    .dataframe tbody tr th:only-of-type {\n",
       "        vertical-align: middle;\n",
       "    }\n",
       "\n",
       "    .dataframe tbody tr th {\n",
       "        vertical-align: top;\n",
       "    }\n",
       "\n",
       "    .dataframe thead th {\n",
       "        text-align: right;\n",
       "    }\n",
       "</style>\n",
       "<table border=\"1\" class=\"dataframe\">\n",
       "  <thead>\n",
       "    <tr style=\"text-align: right;\">\n",
       "      <th></th>\n",
       "      <th>LIMIT_BAL</th>\n",
       "      <th>AGE</th>\n",
       "      <th>Duly_payer</th>\n",
       "      <th>Fallible_payer</th>\n",
       "      <th>Monitor_payer</th>\n",
       "      <th>No_transact</th>\n",
       "      <th>Totalbillamount</th>\n",
       "      <th>Totalpaymentamount</th>\n",
       "    </tr>\n",
       "  </thead>\n",
       "  <tbody>\n",
       "    <tr>\n",
       "      <th>0</th>\n",
       "      <td>20000</td>\n",
       "      <td>24</td>\n",
       "      <td>0</td>\n",
       "      <td>0</td>\n",
       "      <td>0</td>\n",
       "      <td>0</td>\n",
       "      <td>7704</td>\n",
       "      <td>689</td>\n",
       "    </tr>\n",
       "    <tr>\n",
       "      <th>1</th>\n",
       "      <td>120000</td>\n",
       "      <td>26</td>\n",
       "      <td>0</td>\n",
       "      <td>0</td>\n",
       "      <td>0</td>\n",
       "      <td>0</td>\n",
       "      <td>17077</td>\n",
       "      <td>5000</td>\n",
       "    </tr>\n",
       "    <tr>\n",
       "      <th>2</th>\n",
       "      <td>90000</td>\n",
       "      <td>34</td>\n",
       "      <td>0</td>\n",
       "      <td>0</td>\n",
       "      <td>0</td>\n",
       "      <td>0</td>\n",
       "      <td>101653</td>\n",
       "      <td>11018</td>\n",
       "    </tr>\n",
       "    <tr>\n",
       "      <th>3</th>\n",
       "      <td>50000</td>\n",
       "      <td>37</td>\n",
       "      <td>0</td>\n",
       "      <td>0</td>\n",
       "      <td>0</td>\n",
       "      <td>0</td>\n",
       "      <td>231334</td>\n",
       "      <td>8388</td>\n",
       "    </tr>\n",
       "    <tr>\n",
       "      <th>4</th>\n",
       "      <td>50000</td>\n",
       "      <td>57</td>\n",
       "      <td>0</td>\n",
       "      <td>0</td>\n",
       "      <td>0</td>\n",
       "      <td>0</td>\n",
       "      <td>109339</td>\n",
       "      <td>59049</td>\n",
       "    </tr>\n",
       "  </tbody>\n",
       "</table>\n",
       "</div>"
      ],
      "text/plain": [
       "   LIMIT_BAL  AGE  Duly_payer  Fallible_payer  Monitor_payer  No_transact  \\\n",
       "0      20000   24           0               0              0            0   \n",
       "1     120000   26           0               0              0            0   \n",
       "2      90000   34           0               0              0            0   \n",
       "3      50000   37           0               0              0            0   \n",
       "4      50000   57           0               0              0            0   \n",
       "\n",
       "   Totalbillamount  Totalpaymentamount  \n",
       "0             7704                 689  \n",
       "1            17077                5000  \n",
       "2           101653               11018  \n",
       "3           231334                8388  \n",
       "4           109339               59049  "
      ]
     },
     "execution_count": 10,
     "metadata": {},
     "output_type": "execute_result"
    }
   ],
   "source": [
    "df_fop.head()"
   ]
  },
  {
   "cell_type": "markdown",
   "metadata": {},
   "source": [
    "# Outlier analysis"
   ]
  },
  {
   "cell_type": "code",
   "execution_count": 11,
   "metadata": {},
   "outputs": [
    {
     "data": {
      "text/plain": [
       "0.10      30000.0\n",
       "0.20      50000.0\n",
       "0.30      70000.0\n",
       "0.40     100000.0\n",
       "0.50     140000.0\n",
       "0.60     180000.0\n",
       "0.70     210000.0\n",
       "0.80     270000.0\n",
       "0.90     360000.0\n",
       "0.95     430000.0\n",
       "1.00    1000000.0\n",
       "Name: LIMIT_BAL, dtype: float64"
      ]
     },
     "execution_count": 11,
     "metadata": {},
     "output_type": "execute_result"
    }
   ],
   "source": [
    "q=[0.1,0.2,0.3,0.4,0.5,0.6,0.7,0.8,0.9,0.95,1]\n",
    "df_fop['LIMIT_BAL'].quantile(q)"
   ]
  },
  {
   "cell_type": "markdown",
   "metadata": {},
   "source": [
    "Variance across all quartiles is same except 90% to 100% quartile."
   ]
  },
  {
   "cell_type": "code",
   "execution_count": 12,
   "metadata": {},
   "outputs": [
    {
     "name": "stdout",
     "output_type": "stream",
     "text": [
      "3357\n",
      "1558\n"
     ]
    }
   ],
   "source": [
    "print(len(df_fop[df_fop['LIMIT_BAL']>=360000.0]))\n",
    "print(len(df_fop[df_fop['LIMIT_BAL']>=430000.0]))\n"
   ]
  },
  {
   "cell_type": "markdown",
   "metadata": {},
   "source": [
    "3357 (11%)number of observations present in between 90% to 100% quartile. since 11% here is a huge number do not wanted to impute biased values. so further it is divide to 95% to 100% quartiles, now 1558 (5.8%)values in this range, so values above 95% quartile are replaced with 430000.0"
   ]
  },
  {
   "cell_type": "code",
   "execution_count": 13,
   "metadata": {},
   "outputs": [],
   "source": [
    "df_fop['LIMIT_BAL']=df_fop['LIMIT_BAL'].apply(lambda x:430000.0 if x >=430000.0 else x)"
   ]
  },
  {
   "cell_type": "code",
   "execution_count": 14,
   "metadata": {},
   "outputs": [
    {
     "data": {
      "text/plain": [
       "0.10       4183.70\n",
       "0.15       9386.10\n",
       "0.20      17167.00\n",
       "0.30      44241.10\n",
       "0.40      82584.60\n",
       "0.50     126311.00\n",
       "0.60     188873.00\n",
       "0.70     277665.20\n",
       "0.80     435210.80\n",
       "0.90     743599.40\n",
       "0.95    1046422.05\n",
       "1.00    5263883.00\n",
       "Name: Totalbillamount, dtype: float64"
      ]
     },
     "execution_count": 14,
     "metadata": {},
     "output_type": "execute_result"
    }
   ],
   "source": [
    "q=[0.1,0.15,0.2,0.3,0.4,0.5,0.6,0.7,0.8,0.9,0.95,1]\n",
    "x['Totalbillamount'].quantile(q)"
   ]
  },
  {
   "cell_type": "markdown",
   "metadata": {},
   "source": [
    "variance in quartile 90% to 100% too high.so this would be treated as below."
   ]
  },
  {
   "cell_type": "code",
   "execution_count": 15,
   "metadata": {},
   "outputs": [
    {
     "name": "stdout",
     "output_type": "stream",
     "text": [
      "6000\n",
      "3000\n",
      "1500\n",
      "4500\n"
     ]
    }
   ],
   "source": [
    "print(len(df_fop[df_fop['Totalbillamount']<17167.0]))\n",
    "print(len(df_fop[df_fop['Totalbillamount']>743599.4]))\n",
    "print(len(df_fop[df_fop['Totalbillamount']>1046422.05]))\n",
    "print(len(df_fop[df_fop['Totalbillamount']<9386.10]))"
   ]
  },
  {
   "cell_type": "code",
   "execution_count": 16,
   "metadata": {},
   "outputs": [],
   "source": [
    "df_fop['Totalbillamount']=df_fop['Totalbillamount'].apply(lambda x:  1046422.05 if x >=  1046422.05 else x)"
   ]
  },
  {
   "cell_type": "markdown",
   "metadata": {},
   "source": [
    "1500(5% of total) values lie in the 95% to 100% quartile , this outliers are imputed with 95% quartile value(1046422.05)"
   ]
  },
  {
   "cell_type": "code",
   "execution_count": 17,
   "metadata": {},
   "outputs": [
    {
     "data": {
      "text/plain": [
       "0.10       2424.40\n",
       "0.20       5480.80\n",
       "0.30       7840.00\n",
       "0.40      10530.20\n",
       "0.50      14383.00\n",
       "0.60      20046.80\n",
       "0.70      28186.60\n",
       "0.80      40864.40\n",
       "0.90      71749.60\n",
       "0.95     118317.05\n",
       "0.97     159674.30\n",
       "1.00    3764066.00\n",
       "Name: Totalpaymentamount, dtype: float64"
      ]
     },
     "execution_count": 17,
     "metadata": {},
     "output_type": "execute_result"
    }
   ],
   "source": [
    "q=[0.1,0.2,0.3,0.4,0.5,0.6,0.7,0.8,0.9,0.95,0.97,1]\n",
    "df_fop['Totalpaymentamount'].quantile(q)"
   ]
  },
  {
   "cell_type": "code",
   "execution_count": 18,
   "metadata": {},
   "outputs": [],
   "source": [
    "df_fop['Totalpaymentamount']=df_fop['Totalpaymentamount'].apply(lambda x: 159674.30 if x >= 159674.30 else x)"
   ]
  },
  {
   "cell_type": "code",
   "execution_count": 19,
   "metadata": {},
   "outputs": [
    {
     "data": {
      "text/html": [
       "<div>\n",
       "<style scoped>\n",
       "    .dataframe tbody tr th:only-of-type {\n",
       "        vertical-align: middle;\n",
       "    }\n",
       "\n",
       "    .dataframe tbody tr th {\n",
       "        vertical-align: top;\n",
       "    }\n",
       "\n",
       "    .dataframe thead th {\n",
       "        text-align: right;\n",
       "    }\n",
       "</style>\n",
       "<table border=\"1\" class=\"dataframe\">\n",
       "  <thead>\n",
       "    <tr style=\"text-align: right;\">\n",
       "      <th></th>\n",
       "      <th>LIMIT_BAL</th>\n",
       "      <th>AGE</th>\n",
       "      <th>Duly_payer</th>\n",
       "      <th>Fallible_payer</th>\n",
       "      <th>Monitor_payer</th>\n",
       "      <th>No_transact</th>\n",
       "      <th>Totalbillamount</th>\n",
       "      <th>Totalpaymentamount</th>\n",
       "    </tr>\n",
       "  </thead>\n",
       "  <tbody>\n",
       "    <tr>\n",
       "      <th>LIMIT_BAL</th>\n",
       "      <td>1.000000</td>\n",
       "      <td>0.142867</td>\n",
       "      <td>0.020654</td>\n",
       "      <td>-0.125928</td>\n",
       "      <td>-0.220592</td>\n",
       "      <td>0.014100</td>\n",
       "      <td>0.251662</td>\n",
       "      <td>0.426962</td>\n",
       "    </tr>\n",
       "    <tr>\n",
       "      <th>AGE</th>\n",
       "      <td>0.142867</td>\n",
       "      <td>1.000000</td>\n",
       "      <td>0.008834</td>\n",
       "      <td>0.004426</td>\n",
       "      <td>-0.017655</td>\n",
       "      <td>-0.024688</td>\n",
       "      <td>0.041749</td>\n",
       "      <td>0.044338</td>\n",
       "    </tr>\n",
       "    <tr>\n",
       "      <th>Duly_payer</th>\n",
       "      <td>0.020654</td>\n",
       "      <td>0.008834</td>\n",
       "      <td>1.000000</td>\n",
       "      <td>-0.007178</td>\n",
       "      <td>-0.012219</td>\n",
       "      <td>-0.003330</td>\n",
       "      <td>-0.022012</td>\n",
       "      <td>0.010721</td>\n",
       "    </tr>\n",
       "    <tr>\n",
       "      <th>Fallible_payer</th>\n",
       "      <td>-0.125928</td>\n",
       "      <td>0.004426</td>\n",
       "      <td>-0.007178</td>\n",
       "      <td>1.000000</td>\n",
       "      <td>0.587450</td>\n",
       "      <td>-0.021704</td>\n",
       "      <td>0.043375</td>\n",
       "      <td>-0.086743</td>\n",
       "    </tr>\n",
       "    <tr>\n",
       "      <th>Monitor_payer</th>\n",
       "      <td>-0.220592</td>\n",
       "      <td>-0.017655</td>\n",
       "      <td>-0.012219</td>\n",
       "      <td>0.587450</td>\n",
       "      <td>1.000000</td>\n",
       "      <td>-0.036946</td>\n",
       "      <td>0.055410</td>\n",
       "      <td>-0.134600</td>\n",
       "    </tr>\n",
       "    <tr>\n",
       "      <th>No_transact</th>\n",
       "      <td>0.014100</td>\n",
       "      <td>-0.024688</td>\n",
       "      <td>-0.003330</td>\n",
       "      <td>-0.021704</td>\n",
       "      <td>-0.036946</td>\n",
       "      <td>1.000000</td>\n",
       "      <td>0.017511</td>\n",
       "      <td>0.025712</td>\n",
       "    </tr>\n",
       "    <tr>\n",
       "      <th>Totalbillamount</th>\n",
       "      <td>0.251662</td>\n",
       "      <td>0.041749</td>\n",
       "      <td>-0.022012</td>\n",
       "      <td>0.043375</td>\n",
       "      <td>0.055410</td>\n",
       "      <td>0.017511</td>\n",
       "      <td>1.000000</td>\n",
       "      <td>0.406529</td>\n",
       "    </tr>\n",
       "    <tr>\n",
       "      <th>Totalpaymentamount</th>\n",
       "      <td>0.426962</td>\n",
       "      <td>0.044338</td>\n",
       "      <td>0.010721</td>\n",
       "      <td>-0.086743</td>\n",
       "      <td>-0.134600</td>\n",
       "      <td>0.025712</td>\n",
       "      <td>0.406529</td>\n",
       "      <td>1.000000</td>\n",
       "    </tr>\n",
       "  </tbody>\n",
       "</table>\n",
       "</div>"
      ],
      "text/plain": [
       "                    LIMIT_BAL       AGE  Duly_payer  Fallible_payer  \\\n",
       "LIMIT_BAL            1.000000  0.142867    0.020654       -0.125928   \n",
       "AGE                  0.142867  1.000000    0.008834        0.004426   \n",
       "Duly_payer           0.020654  0.008834    1.000000       -0.007178   \n",
       "Fallible_payer      -0.125928  0.004426   -0.007178        1.000000   \n",
       "Monitor_payer       -0.220592 -0.017655   -0.012219        0.587450   \n",
       "No_transact          0.014100 -0.024688   -0.003330       -0.021704   \n",
       "Totalbillamount      0.251662  0.041749   -0.022012        0.043375   \n",
       "Totalpaymentamount   0.426962  0.044338    0.010721       -0.086743   \n",
       "\n",
       "                    Monitor_payer  No_transact  Totalbillamount  \\\n",
       "LIMIT_BAL               -0.220592     0.014100         0.251662   \n",
       "AGE                     -0.017655    -0.024688         0.041749   \n",
       "Duly_payer              -0.012219    -0.003330        -0.022012   \n",
       "Fallible_payer           0.587450    -0.021704         0.043375   \n",
       "Monitor_payer            1.000000    -0.036946         0.055410   \n",
       "No_transact             -0.036946     1.000000         0.017511   \n",
       "Totalbillamount          0.055410     0.017511         1.000000   \n",
       "Totalpaymentamount      -0.134600     0.025712         0.406529   \n",
       "\n",
       "                    Totalpaymentamount  \n",
       "LIMIT_BAL                     0.426962  \n",
       "AGE                           0.044338  \n",
       "Duly_payer                    0.010721  \n",
       "Fallible_payer               -0.086743  \n",
       "Monitor_payer                -0.134600  \n",
       "No_transact                   0.025712  \n",
       "Totalbillamount               0.406529  \n",
       "Totalpaymentamount            1.000000  "
      ]
     },
     "execution_count": 19,
     "metadata": {},
     "output_type": "execute_result"
    }
   ],
   "source": [
    "df_fop.corr()"
   ]
  },
  {
   "cell_type": "markdown",
   "metadata": {},
   "source": [
    "# Assumptions check"
   ]
  },
  {
   "cell_type": "code",
   "execution_count": 20,
   "metadata": {},
   "outputs": [],
   "source": [
    "from patsy import dmatrices\n",
    "from statsmodels.stats.outliers_influence import variance_inflation_factor\n",
    "import statsmodels.api as sm\n",
    "ck = np.column_stack([df_fop])\n",
    "\n",
    "\n",
    "vif = [variance_inflation_factor(ck, i) for i in range(ck.shape[1])]\n"
   ]
  },
  {
   "cell_type": "code",
   "execution_count": 21,
   "metadata": {},
   "outputs": [
    {
     "name": "stdout",
     "output_type": "stream",
     "text": [
      "[3.611044077669753, 3.319704971496027, 1.002541931753462, 1.5991757790918049, 1.787096582814207, 1.0105794492193332, 2.085796318329433, 2.251242107376902]\n"
     ]
    }
   ],
   "source": [
    "print(vif)"
   ]
  },
  {
   "cell_type": "markdown",
   "metadata": {},
   "source": [
    "All VIF values are less than 5, indicates that values are not highly correlated."
   ]
  },
  {
   "cell_type": "code",
   "execution_count": 22,
   "metadata": {},
   "outputs": [],
   "source": [
    "from sklearn.model_selection import train_test_split\n",
    "x_train,x_test,y_train,y_test = train_test_split(df_fop,y,test_size=0.33,random_state=28,stratify=y)"
   ]
  },
  {
   "cell_type": "markdown",
   "metadata": {},
   "source": [
    "# Logistic regression"
   ]
  },
  {
   "cell_type": "code",
   "execution_count": 23,
   "metadata": {},
   "outputs": [
    {
     "name": "stdout",
     "output_type": "stream",
     "text": [
      "Training score:  0.7788059701492537\n",
      "Testing score:  0.7787878787878788\n"
     ]
    }
   ],
   "source": [
    "from sklearn.linear_model import LogisticRegression\n",
    "logreg =LogisticRegression()\n",
    "result=logreg.fit(x_train,y_train)\n",
    "y_predict=logreg.predict(x_test)\n",
    "logis_score_train = logreg.score(x_train, y_train)\n",
    "print(\"Training score: \",logis_score_train)\n",
    "logis_score_test = logreg.score(x_test, y_test)\n",
    "print(\"Testing score: \",logis_score_test)"
   ]
  },
  {
   "cell_type": "code",
   "execution_count": 24,
   "metadata": {},
   "outputs": [
    {
     "data": {
      "text/plain": [
       "array([[7710,    0],\n",
       "       [2190,    0]])"
      ]
     },
     "execution_count": 24,
     "metadata": {},
     "output_type": "execute_result"
    }
   ],
   "source": [
    "from sklearn.metrics import  confusion_matrix\n",
    "confusion_matrix(y_test, y_predict)"
   ]
  },
  {
   "cell_type": "markdown",
   "metadata": {},
   "source": [
    "Due to imbalance model is not able to predict defaulters so, under and over sampling techniques has to be applied to this data. This is done in another file."
   ]
  },
  {
   "cell_type": "code",
   "execution_count": 25,
   "metadata": {},
   "outputs": [
    {
     "data": {
      "image/png": "[encoded data removed]",
      "text/plain": [
       "<Figure size 432x288 with 1 Axes>"
      ]
     },
     "metadata": {},
     "output_type": "display_data"
    },
    {
     "data": {
      "text/plain": [
       "0.6475566630539713"
      ]
     },
     "execution_count": 25,
     "metadata": {},
     "output_type": "execute_result"
    }
   ],
   "source": [
    "#ROC Curve\n",
    "from sklearn.metrics import roc_curve\n",
    "import matplotlib.pyplot as plt\n",
    "y_pred_prop=logreg.predict_proba(x_test)[:,1] #Filter column of prob leaving target\n",
    "fpr,tpr,thresholds = roc_curve(y_test,y_pred_prop)\n",
    "plt.plot([0,1],[0,1],'k--')\n",
    "plt.plot(fpr,tpr,label='logistic regression')\n",
    "plt.xlabel('FP rate')\n",
    "plt.ylabel('TP rate')\n",
    "plt.title('Logistic regression ROC Curve')\n",
    "plt.show()\n",
    "#AUC of ROC Curve\n",
    "from sklearn.metrics import roc_auc_score\n",
    "roc_auc_score(y_test,y_pred_prop)"
   ]
  },
  {
   "cell_type": "code",
   "execution_count": 26,
   "metadata": {},
   "outputs": [
    {
     "name": "stdout",
     "output_type": "stream",
     "text": [
      "0.43781942078364566\n",
      "0.3893939393939394\n",
      "0.5\n"
     ]
    }
   ],
   "source": [
    "from sklearn.metrics import accuracy_score, f1_score, precision_score, recall_score, classification_report, confusion_matrix\n",
    "print(f1_score(y_test, y_predict, average=\"macro\"))\n",
    "print(precision_score(y_test, y_predict, average=\"macro\"))\n",
    "print(recall_score(y_test, y_predict, average=\"macro\"))"
   ]
  },
  {
   "cell_type": "code",
   "execution_count": 27,
   "metadata": {},
   "outputs": [
    {
     "name": "stdout",
     "output_type": "stream",
     "text": [
      "Optimization terminated successfully.\n",
      "         Current function value: 0.482840\n",
      "         Iterations 7\n",
      "                               Logit Regression Results                               \n",
      "======================================================================================\n",
      "Dep. Variable:     default payment next month   No. Observations:                20100\n",
      "Model:                                  Logit   Df Residuals:                    20092\n",
      "Method:                                   MLE   Df Model:                            7\n",
      "Date:                        Tue, 04 Sep 2018   Pseudo R-squ.:                 0.08625\n",
      "Time:                                11:30:11   Log-Likelihood:                -9705.1\n",
      "converged:                               True   LL-Null:                       -10621.\n",
      "                                                LLR p-value:                     0.000\n",
      "======================================================================================\n",
      "                         coef    std err          z      P>|z|      [0.025      0.975]\n",
      "--------------------------------------------------------------------------------------\n",
      "LIMIT_BAL          -1.893e-06   1.81e-07    -10.485      0.000   -2.25e-06   -1.54e-06\n",
      "AGE                   -0.0268      0.001    -29.686      0.000      -0.029      -0.025\n",
      "Duly_payer            -1.0648      1.038     -1.026      0.305      -3.098       0.969\n",
      "Fallible_payer         0.7815      0.091      8.623      0.000       0.604       0.959\n",
      "Monitor_payer          1.3909      0.058     24.103      0.000       1.278       1.504\n",
      "No_transact           -0.4341      0.218     -1.994      0.046      -0.861      -0.007\n",
      "Totalbillamount    -6.601e-09   7.48e-08     -0.088      0.930   -1.53e-07     1.4e-07\n",
      "Totalpaymentamount -9.479e-06   8.24e-07    -11.501      0.000   -1.11e-05   -7.86e-06\n",
      "======================================================================================\n"
     ]
    }
   ],
   "source": [
    "import statsmodels.api as sm\n",
    "logit = sm.Logit(y_train,x_train)\n",
    "\n",
    "# fit the model\n",
    "result = logit.fit()\n",
    "print(result.summary())"
   ]
  },
  {
   "cell_type": "markdown",
   "metadata": {},
   "source": [
    "# SMOTE"
   ]
  },
  {
   "cell_type": "code",
   "execution_count": 28,
   "metadata": {},
   "outputs": [
    {
     "name": "stdout",
     "output_type": "stream",
     "text": [
      "Before OverSampling, counts of label '1': 4446\n",
      "Before OverSampling, counts of label '0': 15654 \n",
      "\n",
      "Before OverSampling, counts of label '1': 4446\n",
      "Before OverSampling, counts of label '0': 15654 \n",
      "\n",
      "After OverSampling, the shape of train_X: (31308, 8)\n",
      "After OverSampling, the shape of train_y: (31308,) \n",
      "\n",
      "After OverSampling, counts of label '1': 15654\n",
      "After OverSampling, counts of label '0': 15654\n"
     ]
    }
   ],
   "source": [
    "from imblearn.over_sampling import SMOTE \n",
    "print(\"Before OverSampling, counts of label '1': {}\".format(sum(y_train==1)))\n",
    "print(\"Before OverSampling, counts of label '0': {} \\n\".format(sum(y_train==0)))\n",
    "print(\"Before OverSampling, counts of label '1': {}\".format(sum(y_train==1)))\n",
    "print(\"Before OverSampling, counts of label '0': {} \\n\".format(sum(y_train==0)))\n",
    "\n",
    "sm = SMOTE(random_state=2)\n",
    "X_train_res, y_train_res = sm.fit_sample(x_train, y_train.ravel())\n",
    "\n",
    "print('After OverSampling, the shape of train_X: {}'.format(X_train_res.shape))\n",
    "print('After OverSampling, the shape of train_y: {} \\n'.format(y_train_res.shape))\n",
    "\n",
    "print(\"After OverSampling, counts of label '1': {}\".format(sum(y_train_res==1)))\n",
    "print(\"After OverSampling, counts of label '0': {}\".format(sum(y_train_res==0)))"
   ]
  },
  {
   "cell_type": "code",
   "execution_count": 29,
   "metadata": {},
   "outputs": [
    {
     "name": "stdout",
     "output_type": "stream",
     "text": [
      "Training score:  0.6078638047783315\n",
      "Testing score:  0.544040404040404\n"
     ]
    }
   ],
   "source": [
    "logreg1 =LogisticRegression(class_weight='balanced')\n",
    "result=logreg1.fit(X_train_res,y_train_res)\n",
    "y_predict1=logreg1.predict(x_test)\n",
    "logis_score_train = logreg1.score(X_train_res, y_train_res)\n",
    "print(\"Training score: \",logis_score_train)\n",
    "logis_score_test = logreg1.score(x_test, y_test)\n",
    "print(\"Testing score: \",logis_score_test)"
   ]
  },
  {
   "cell_type": "code",
   "execution_count": 30,
   "metadata": {},
   "outputs": [
    {
     "data": {
      "text/plain": [
       "array([[3768, 3942],\n",
       "       [ 572, 1618]])"
      ]
     },
     "execution_count": 30,
     "metadata": {},
     "output_type": "execute_result"
    }
   ],
   "source": [
    "from sklearn.metrics import  confusion_matrix\n",
    "confusion_matrix(y_test, y_predict1)"
   ]
  },
  {
   "cell_type": "code",
   "execution_count": 35,
   "metadata": {},
   "outputs": [
    {
     "name": "stdout",
     "output_type": "stream",
     "text": [
      "0.5214712889840718\n",
      "0.5796049796107814\n",
      "0.6137643693477605\n"
     ]
    }
   ],
   "source": [
    "from sklearn.metrics import accuracy_score, f1_score, precision_score, recall_score, classification_report, confusion_matrix\n",
    "print(f1_score(y_test, y_predict1, average=\"macro\"))\n",
    "print(precision_score(y_test, y_predict1, average=\"macro\"))\n",
    "print(recall_score(y_test, y_predict1, average=\"macro\"))"
   ]
  },
  {
   "cell_type": "markdown",
   "metadata": {},
   "source": [
    "# Adaptive synthetic sampling (ADASYN)"
   ]
  },
  {
   "cell_type": "code",
   "execution_count": 31,
   "metadata": {},
   "outputs": [],
   "source": [
    "from imblearn.over_sampling import ADASYN \n",
    "ada = ADASYN(random_state=42)\n",
    "X_res, y_res = ada.fit_sample(x_train, y_train)"
   ]
  },
  {
   "cell_type": "code",
   "execution_count": 32,
   "metadata": {},
   "outputs": [
    {
     "name": "stdout",
     "output_type": "stream",
     "text": [
      "Training score:  0.5588731115865915\n",
      "Testing score:  0.5608080808080808\n"
     ]
    }
   ],
   "source": [
    "logreg2 =LogisticRegression()\n",
    "result=logreg2.fit(X_res,y_res)\n",
    "y_predict2=logreg2.predict(x_test)\n",
    "logis_score_train = logreg2.score(X_res, y_res)\n",
    "print(\"Training score: \",logis_score_train)\n",
    "logis_score_test = logreg2.score(x_test, y_test)\n",
    "print(\"Testing score: \",logis_score_test)"
   ]
  },
  {
   "cell_type": "code",
   "execution_count": 33,
   "metadata": {},
   "outputs": [
    {
     "data": {
      "text/plain": [
       "array([[4011, 3699],\n",
       "       [ 649, 1541]])"
      ]
     },
     "execution_count": 33,
     "metadata": {},
     "output_type": "execute_result"
    }
   ],
   "source": [
    "from sklearn.metrics import  confusion_matrix\n",
    "confusion_matrix(y_test, y_predict2)"
   ]
  },
  {
   "cell_type": "code",
   "execution_count": 34,
   "metadata": {},
   "outputs": [
    {
     "name": "stdout",
     "output_type": "stream",
     "text": [
      "0.5316546457314891\n",
      "0.5774067915997771\n",
      "0.6119432155357746\n"
     ]
    }
   ],
   "source": [
    "from sklearn.metrics import accuracy_score, f1_score, precision_score, recall_score, classification_report, confusion_matrix\n",
    "print(f1_score(y_test, y_predict2, average=\"macro\"))\n",
    "print(precision_score(y_test, y_predict2, average=\"macro\"))\n",
    "print(recall_score(y_test, y_predict2, average=\"macro\"))"
   ]
  },
  {
   "cell_type": "code",
   "execution_count": null,
   "metadata": {},
   "outputs": [],
   "source": []
  }
 ],
 "metadata": {
  "kernelspec": {
   "display_name": "Python 3",
   "language": "python",
   "name": "python3"
  },
  "language_info": {
   "codemirror_mode": {
    "name": "ipython",
    "version": 3
   },
   "file_extension": ".py",
   "mimetype": "text/x-python",
   "name": "python",
   "nbconvert_exporter": "python",
   "pygments_lexer": "ipython3",
   "version": "3.6.5"
  }
 },
 "nbformat": 4,
 "nbformat_minor": 2
}
